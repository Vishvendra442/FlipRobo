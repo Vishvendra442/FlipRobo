{
 "cells": [
  {
   "cell_type": "code",
   "execution_count": 1,
   "metadata": {},
   "outputs": [],
   "source": [
    "#Imorting Libraries\n",
    "from bs4 import BeautifulSoup\n",
    "import requests\n",
    "import pandas as pd\n",
    "import numpy as np"
   ]
  },
  {
   "cell_type": "code",
   "execution_count": 2,
   "metadata": {},
   "outputs": [
    {
     "data": {
      "text/plain": [
       "<Response [200]>"
      ]
     },
     "execution_count": 2,
     "metadata": {},
     "output_type": "execute_result"
    }
   ],
   "source": [
    "page=requests.get('https://www.thehindu.com/archive/web/2015/08/')\n",
    "page"
   ]
  },
  {
   "cell_type": "code",
   "execution_count": 3,
   "metadata": {},
   "outputs": [],
   "source": [
    "date = []\n",
    "news_link = []\n",
    "time =[]\n",
    "authors = []\n",
    "verticals = [] \n",
    "heads = []\n",
    "desc =[]"
   ]
  },
  {
   "cell_type": "code",
   "execution_count": 4,
   "metadata": {},
   "outputs": [],
   "source": [
    "soup = BeautifulSoup(page.text, 'html.parser')\n",
    "block = soup.find('table', class_='archiveTable')\n",
    "link = block.find_all('a')\n",
    "#Scrapping Date Link\n",
    "for i in link:\n",
    "    date.append(i.get('href'))"
   ]
  },
  {
   "cell_type": "code",
   "execution_count": 5,
   "metadata": {},
   "outputs": [],
   "source": [
    "#Scrapiing All Article Link\n",
    "for i in date:\n",
    "    page=requests.get(i)\n",
    "    soup = BeautifulSoup(page.text, 'html.parser')\n",
    "    col = soup.find('div', class_='tpaper-container')\n",
    "    sec = col.find_all('section')\n",
    "    for i in sec:\n",
    "        b = i.find_all('ul', class_='archive-list')\n",
    "        for j in b:\n",
    "            c = j.find_all('a')\n",
    "            for k in c:\n",
    "                news_link.append(k.get('href'))\n",
    "        "
   ]
  },
  {
   "cell_type": "code",
   "execution_count": 6,
   "metadata": {},
   "outputs": [
    {
     "name": "stdout",
     "output_type": "stream",
     "text": [
      "Number of article = 18353\n"
     ]
    }
   ],
   "source": [
    "print('Number of article =',len(news_link))"
   ]
  },
  {
   "cell_type": "code",
   "execution_count": 7,
   "metadata": {},
   "outputs": [],
   "source": [
    "for i in news_link:\n",
    "    page=requests.get(i)\n",
    "    soup = BeautifulSoup(page.text, 'html.parser')\n",
    "    \n",
    "    #Scrapping Verticals\n",
    "    try:\n",
    "        ver1 = soup.find('div', class_='article')\n",
    "        ver2 = ver1.find('div', class_='article-exclusive').a.text.replace('\\n','')\n",
    "        verticals.append(ver2)\n",
    "    except AttributeError:\n",
    "        verticals.append('')\n",
    "    \n",
    "    #Scrapping Heading\n",
    "    try:\n",
    "        h1 = soup.find('div', class_='article').div.h1.text.replace('\\n','')\n",
    "        heads.append(h1)\n",
    "    except AttributeError:\n",
    "        heads.append('')\n",
    "    \n",
    "    #Scrapping Date of Upload\n",
    "    try:\n",
    "        d1 = soup.find('div', class_='article')\n",
    "        d2 = d1.find('div', class_='ut-container')\n",
    "        d3 = d2.find_all('span')\n",
    "        d4 = d3[1].text.replace('\\n','')\n",
    "        time.append(d4)\n",
    "    except AttributeError:\n",
    "        time.append('')\n",
    "    \n",
    "    #Scrapping Author Name\n",
    "    try:\n",
    "        a1 = soup.find('div', class_='article')\n",
    "        a2 = d1.find('div', class_='author-container hidden-xs').span.text.replace('\\n','')\n",
    "        authors.append(a2)\n",
    "    except AttributeError:\n",
    "        authors.append('')\n",
    "     \n",
    "    #Scrapping Description\n",
    "    try:\n",
    "        h1 = soup.find('div', class_='article')\n",
    "        h2 = h1.find('h2', class_='intro')\n",
    "        h3 = h2.text.replace('\\n','')\n",
    "        desc.append(h3)\n",
    "    except AttributeError:\n",
    "        desc.append('No Description')"
   ]
  },
  {
   "cell_type": "code",
   "execution_count": 8,
   "metadata": {},
   "outputs": [
    {
     "data": {
      "text/html": [
       "<div>\n",
       "<style scoped>\n",
       "    .dataframe tbody tr th:only-of-type {\n",
       "        vertical-align: middle;\n",
       "    }\n",
       "\n",
       "    .dataframe tbody tr th {\n",
       "        vertical-align: top;\n",
       "    }\n",
       "\n",
       "    .dataframe thead th {\n",
       "        text-align: right;\n",
       "    }\n",
       "</style>\n",
       "<table border=\"1\" class=\"dataframe\">\n",
       "  <thead>\n",
       "    <tr style=\"text-align: right;\">\n",
       "      <th></th>\n",
       "      <th>Date Of Upload</th>\n",
       "      <th>Author</th>\n",
       "      <th>Vertical</th>\n",
       "      <th>Headline</th>\n",
       "      <th>Description</th>\n",
       "    </tr>\n",
       "  </thead>\n",
       "  <tbody>\n",
       "    <tr>\n",
       "      <th>0</th>\n",
       "      <td>August 01, 2015 18:29 IST</td>\n",
       "      <td>Dennis S. Jesudasan</td>\n",
       "      <td>Other Sports</td>\n",
       "      <td>HC comes to the aid of Santhi</td>\n",
       "      <td>The 34-year-old was stripped of her Asian Game...</td>\n",
       "    </tr>\n",
       "    <tr>\n",
       "      <th>1</th>\n",
       "      <td>August 01, 2015 02:23 IST</td>\n",
       "      <td>CHENNAI:,</td>\n",
       "      <td>Other Sports</td>\n",
       "      <td>Badminton Premier League from tomorrow</td>\n",
       "      <td>No Description</td>\n",
       "    </tr>\n",
       "    <tr>\n",
       "      <th>2</th>\n",
       "      <td>August 01, 2015 00:26 IST</td>\n",
       "      <td>Agencies</td>\n",
       "      <td>Other Sports</td>\n",
       "      <td>FINA World Championships: Russians dazzle in t...</td>\n",
       "      <td>No Description</td>\n",
       "    </tr>\n",
       "    <tr>\n",
       "      <th>3</th>\n",
       "      <td>August 01, 2015 00:25 IST</td>\n",
       "      <td>PTI</td>\n",
       "      <td>Other Sports</td>\n",
       "      <td>ProKabaddi: Bulls, Pirates post wins</td>\n",
       "      <td>No Description</td>\n",
       "    </tr>\n",
       "    <tr>\n",
       "      <th>4</th>\n",
       "      <td>August 01, 2015 00:24 IST</td>\n",
       "      <td>PTI</td>\n",
       "      <td>Other Sports</td>\n",
       "      <td>Victoria Open squash: Mahesh, Joshna move up</td>\n",
       "      <td>No Description</td>\n",
       "    </tr>\n",
       "    <tr>\n",
       "      <th>...</th>\n",
       "      <td>...</td>\n",
       "      <td>...</td>\n",
       "      <td>...</td>\n",
       "      <td>...</td>\n",
       "      <td>...</td>\n",
       "    </tr>\n",
       "    <tr>\n",
       "      <th>18348</th>\n",
       "      <td>March 28, 2016 14:46 IST</td>\n",
       "      <td>A.S.Ganesh</td>\n",
       "      <td>Science</td>\n",
       "      <td>In search of the magic bullet</td>\n",
       "      <td>Thanks to Paul Ehrlich’s belief that chemicals...</td>\n",
       "    </tr>\n",
       "    <tr>\n",
       "      <th>18349</th>\n",
       "      <td>March 25, 2016 12:59 IST</td>\n",
       "      <td>Prof. K. S. S. Seshan</td>\n",
       "      <td>Schools</td>\n",
       "      <td>Ban the use of cane in classroom</td>\n",
       "      <td>No Description</td>\n",
       "    </tr>\n",
       "    <tr>\n",
       "      <th>18350</th>\n",
       "      <td>March 29, 2016 18:15 IST</td>\n",
       "      <td>August 31, 2015 12:47 IST</td>\n",
       "      <td>Brainteasers</td>\n",
       "      <td>Rebus 961</td>\n",
       "      <td>Rebus a day keeps Alzheimer’s away! Or we’d at...</td>\n",
       "    </tr>\n",
       "    <tr>\n",
       "      <th>18351</th>\n",
       "      <td>August 31, 2015 01:27 IST</td>\n",
       "      <td>PTI</td>\n",
       "      <td>Hockey</td>\n",
       "      <td>We will make it count, say players</td>\n",
       "      <td>The women’s team will be featuring in the Olym...</td>\n",
       "    </tr>\n",
       "    <tr>\n",
       "      <th>18352</th>\n",
       "      <td>August 31, 2015 18:41 IST</td>\n",
       "      <td>PTI</td>\n",
       "      <td>Science</td>\n",
       "      <td>Alien living beings on Pluto likely: UK scient...</td>\n",
       "      <td>No Description</td>\n",
       "    </tr>\n",
       "  </tbody>\n",
       "</table>\n",
       "<p>18353 rows × 5 columns</p>\n",
       "</div>"
      ],
      "text/plain": [
       "                  Date Of Upload                     Author      Vertical  \\\n",
       "0      August 01, 2015 18:29 IST        Dennis S. Jesudasan  Other Sports   \n",
       "1      August 01, 2015 02:23 IST                  CHENNAI:,  Other Sports   \n",
       "2      August 01, 2015 00:26 IST                   Agencies  Other Sports   \n",
       "3      August 01, 2015 00:25 IST                        PTI  Other Sports   \n",
       "4      August 01, 2015 00:24 IST                        PTI  Other Sports   \n",
       "...                          ...                        ...           ...   \n",
       "18348   March 28, 2016 14:46 IST                 A.S.Ganesh       Science   \n",
       "18349   March 25, 2016 12:59 IST      Prof. K. S. S. Seshan       Schools   \n",
       "18350   March 29, 2016 18:15 IST  August 31, 2015 12:47 IST  Brainteasers   \n",
       "18351  August 31, 2015 01:27 IST                        PTI        Hockey   \n",
       "18352  August 31, 2015 18:41 IST                        PTI       Science   \n",
       "\n",
       "                                                Headline  \\\n",
       "0                          HC comes to the aid of Santhi   \n",
       "1                 Badminton Premier League from tomorrow   \n",
       "2      FINA World Championships: Russians dazzle in t...   \n",
       "3                   ProKabaddi: Bulls, Pirates post wins   \n",
       "4           Victoria Open squash: Mahesh, Joshna move up   \n",
       "...                                                  ...   \n",
       "18348                      In search of the magic bullet   \n",
       "18349                   Ban the use of cane in classroom   \n",
       "18350                                          Rebus 961   \n",
       "18351                 We will make it count, say players   \n",
       "18352  Alien living beings on Pluto likely: UK scient...   \n",
       "\n",
       "                                             Description  \n",
       "0      The 34-year-old was stripped of her Asian Game...  \n",
       "1                                         No Description  \n",
       "2                                         No Description  \n",
       "3                                         No Description  \n",
       "4                                         No Description  \n",
       "...                                                  ...  \n",
       "18348  Thanks to Paul Ehrlich’s belief that chemicals...  \n",
       "18349                                     No Description  \n",
       "18350  Rebus a day keeps Alzheimer’s away! Or we’d at...  \n",
       "18351  The women’s team will be featuring in the Olym...  \n",
       "18352                                     No Description  \n",
       "\n",
       "[18353 rows x 5 columns]"
      ]
     },
     "execution_count": 8,
     "metadata": {},
     "output_type": "execute_result"
    }
   ],
   "source": [
    "#making dataframe\n",
    "ds = pd.DataFrame({'Date Of Upload':time,'Author':authors,'Vertical':verticals,'Headline':heads,'Description':desc})\n",
    "ds"
   ]
  },
  {
   "cell_type": "code",
   "execution_count": 9,
   "metadata": {},
   "outputs": [],
   "source": [
    "#saving dataframe to csv\n",
    "ds.to_csv('Article_list.csv')"
   ]
  },
  {
   "cell_type": "code",
   "execution_count": null,
   "metadata": {},
   "outputs": [],
   "source": []
  }
 ],
 "metadata": {
  "kernelspec": {
   "display_name": "Python 3",
   "language": "python",
   "name": "python3"
  },
  "language_info": {
   "codemirror_mode": {
    "name": "ipython",
    "version": 3
   },
   "file_extension": ".py",
   "mimetype": "text/x-python",
   "name": "python",
   "nbconvert_exporter": "python",
   "pygments_lexer": "ipython3",
   "version": "3.8.5"
  }
 },
 "nbformat": 4,
 "nbformat_minor": 4
}
